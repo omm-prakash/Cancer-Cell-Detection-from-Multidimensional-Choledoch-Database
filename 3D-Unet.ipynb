{
 "cells": [
  {
   "cell_type": "code",
   "execution_count": 4,
   "id": "9eb41e1e",
   "metadata": {},
   "outputs": [
    {
     "name": "stderr",
     "output_type": "stream",
     "text": [
      "2022-12-31 14:30:23.938042: I tensorflow/core/platform/cpu_feature_guard.cc:193] This TensorFlow binary is optimized with oneAPI Deep Neural Network Library (oneDNN) to use the following CPU instructions in performance-critical operations:  AVX2 AVX512F AVX512_VNNI FMA\n",
      "To enable them in other operations, rebuild TensorFlow with the appropriate compiler flags.\n",
      "2022-12-31 14:30:24.486917: I tensorflow/core/util/port.cc:104] oneDNN custom operations are on. You may see slightly different numerical results due to floating-point round-off errors from different computation orders. To turn them off, set the environment variable `TF_ENABLE_ONEDNN_OPTS=0`.\n",
      "2022-12-31 14:30:24.847943: W tensorflow/compiler/xla/stream_executor/platform/default/dso_loader.cc:64] Could not load dynamic library 'libcudart.so.11.0'; dlerror: libcudart.so.11.0: cannot open shared object file: No such file or directory\n",
      "2022-12-31 14:30:24.847988: I tensorflow/compiler/xla/stream_executor/cuda/cudart_stub.cc:29] Ignore above cudart dlerror if you do not have a GPU set up on your machine.\n",
      "2022-12-31 14:30:36.749868: W tensorflow/compiler/xla/stream_executor/platform/default/dso_loader.cc:64] Could not load dynamic library 'libnvinfer.so.7'; dlerror: libnvinfer.so.7: cannot open shared object file: No such file or directory\n",
      "2022-12-31 14:30:36.749927: W tensorflow/compiler/xla/stream_executor/platform/default/dso_loader.cc:64] Could not load dynamic library 'libnvinfer_plugin.so.7'; dlerror: libnvinfer_plugin.so.7: cannot open shared object file: No such file or directory\n",
      "2022-12-31 14:30:36.749932: W tensorflow/compiler/tf2tensorrt/utils/py_utils.cc:38] TF-TRT Warning: Cannot dlopen some TensorRT libraries. If you would like to use Nvidia GPU with TensorRT, please make sure the missing libraries mentioned above are installed properly.\n"
     ]
    }
   ],
   "source": [
    "from keras.models import Model\n",
    "from keras.layers import Input, Conv3D, MaxPooling3D, concatenate, Conv3DTranspose, BatchNormalization, Dropout, Lambda\n",
    "from keras.optimizers import Adam\n",
    "from keras.metrics import MeanIoU"
   ]
  },
  {
   "cell_type": "code",
   "execution_count": 6,
   "id": "65059fa8",
   "metadata": {},
   "outputs": [
    {
     "data": {
      "text/plain": [
       "'2.11.0'"
      ]
     },
     "execution_count": 6,
     "metadata": {},
     "output_type": "execute_result"
    }
   ],
   "source": [
    "import tensorflow as tf\n",
    "tf.__version__"
   ]
  },
  {
   "cell_type": "code",
   "execution_count": 7,
   "id": "c7fe70ba",
   "metadata": {},
   "outputs": [
    {
     "name": "stderr",
     "output_type": "stream",
     "text": [
      "2022-12-31 14:31:14.213261: W tensorflow/compiler/xla/stream_executor/platform/default/dso_loader.cc:64] Could not load dynamic library 'libcuda.so.1'; dlerror: libcuda.so.1: cannot open shared object file: No such file or directory\n",
      "2022-12-31 14:31:14.213299: W tensorflow/compiler/xla/stream_executor/cuda/cuda_driver.cc:265] failed call to cuInit: UNKNOWN ERROR (303)\n",
      "2022-12-31 14:31:14.213324: I tensorflow/compiler/xla/stream_executor/cuda/cuda_diagnostics.cc:156] kernel driver does not appear to be running on this host (omm-Vostro-3491): /proc/driver/nvidia/version does not exist\n",
      "2022-12-31 14:31:14.213703: I tensorflow/core/platform/cpu_feature_guard.cc:193] This TensorFlow binary is optimized with oneAPI Deep Neural Network Library (oneDNN) to use the following CPU instructions in performance-critical operations:  AVX2 AVX512F AVX512_VNNI FMA\n",
      "To enable them in other operations, rebuild TensorFlow with the appropriate compiler flags.\n"
     ]
    },
    {
     "name": "stdout",
     "output_type": "stream",
     "text": [
      "(None, 128, 128, 128, 3)\n",
      "(None, 128, 128, 128, 4)\n"
     ]
    }
   ],
   "source": [
    "kernel_initializer =  'he_uniform' #Try others if you want\n",
    "\n",
    "def down_block(input, kernels, drop_ratio=0):\n",
    "    conv = Conv3D(kernels, (3, 3, 3), activation='relu', kernel_initializer=kernel_initializer, padding='same')(input)\n",
    "    d = Dropout(drop_ratio)(conv)\n",
    "    conv = Conv3D(kernels, (3, 3, 3), activation='relu', kernel_initializer=kernel_initializer, padding='same')(d)\n",
    "    p = MaxPooling3D((2, 2, 2))(conv)\n",
    "    return (p,conv)\n",
    "\n",
    "def up_block(input, kernels, drop_ratio, concat_layer):\n",
    "    conv = Conv3DTranspose(kernels, (2, 2, 2), strides=(2, 2, 2), padding='same')(input)\n",
    "    concat = concatenate([conv, concat_layer])\n",
    "    conv = Conv3D(kernels, (3, 3, 3), activation='relu', kernel_initializer=kernel_initializer, padding='same')(concat)\n",
    "    d = Dropout(drop_ratio)(conv)\n",
    "    conv = Conv3D(kernels, (3, 3, 3), activation='relu', kernel_initializer=kernel_initializer, padding='same')(d)\n",
    "\n",
    "    return conv\n",
    "  \n",
    "\n",
    "def UNET_3D(IMG_HEIGHT, IMG_WIDTH, IMG_DEPTH, IMG_CHANNELS, num_classes):\n",
    "    inputs = Input((IMG_HEIGHT, IMG_WIDTH, IMG_DEPTH, IMG_CHANNELS))\n",
    "    #s = Lambda(lambda x: x / 255)(inputs)   #No need for this if we normalize our inputs beforehand\n",
    "    s = inputs\n",
    "\n",
    "    #Contraction path\n",
    "    (p1,c1) = down_block(s, 16, 0.1)\n",
    "    (p2,c2) = down_block(p1, 32, 0.1)\n",
    "    (p3,c3) = down_block(p2, 64, 0.2)\n",
    "    (p4,c4) = down_block(p3, 128, 0.2)\n",
    "\n",
    "    c5 = Conv3D(256, (3, 3, 3), activation='relu', kernel_initializer=kernel_initializer, padding='same')(p4)\n",
    "    c5 = Dropout(0.3)(c5)\n",
    "    c5 = Conv3D(256, (3, 3, 3), activation='relu', kernel_initializer=kernel_initializer, padding='same')(c5)\n",
    "\n",
    "    #Expansive path \n",
    "    c6 = up_block(c5, 128, 0.2, c4)\n",
    "    c7 = up_block(c6, 64, 0.2, c3)\n",
    "    c8 = up_block(c7, 32, 0.1, c2)\n",
    "    c9 = up_block(c8, 16, 0.1, c1)\n",
    "\n",
    "    outputs = Conv3D(num_classes, (1, 1, 1), activation='softmax')(c9)\n",
    "    model = Model(inputs=[inputs], outputs=[outputs])\n",
    "    #compile model outside of this function to make it flexible. \n",
    "    # model.summary()\n",
    "\n",
    "    return model\n",
    "\n",
    "#Test if everything is working ok. \n",
    "model = UNET_3D(128, 128, 128, 3, 4)\n",
    "print(model.input_shape)\n",
    "print(model.output_shape)"
   ]
  }
 ],
 "metadata": {
  "kernelspec": {
   "display_name": "Python 3 (ipykernel)",
   "language": "python",
   "name": "python3"
  },
  "language_info": {
   "codemirror_mode": {
    "name": "ipython",
    "version": 3
   },
   "file_extension": ".py",
   "mimetype": "text/x-python",
   "name": "python",
   "nbconvert_exporter": "python",
   "pygments_lexer": "ipython3",
   "version": "3.9.13"
  }
 },
 "nbformat": 4,
 "nbformat_minor": 5
}
